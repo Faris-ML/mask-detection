{
  "nbformat": 4,
  "nbformat_minor": 0,
  "metadata": {
    "colab": {
      "name": "train.ipynb",
      "provenance": []
    },
    "kernelspec": {
      "name": "python3",
      "display_name": "Python 3"
    },
    "language_info": {
      "name": "python"
    },
    "accelerator": "GPU"
  },
  "cells": [
    {
      "cell_type": "code",
      "execution_count": 1,
      "metadata": {
        "id": "PcAaON5OKr_m"
      },
      "outputs": [],
      "source": [
        "from keras.applications.vgg19 import VGG19\n",
        "from keras import Sequential\n",
        "from keras.layers import Flatten, Dense\n",
        "from keras.preprocessing.image import ImageDataGenerator"
      ]
    },
    {
      "cell_type": "code",
      "source": [
        "! git clone https://github.com/Faris-ML/mask-detection.git"
      ],
      "metadata": {
        "colab": {
          "base_uri": "https://localhost:8080/",
          "height": 0
        },
        "id": "MAM8lE_bLtKV",
        "outputId": "73aeedb4-fe63-4965-9865-8cae4ac7e2f0"
      },
      "execution_count": 2,
      "outputs": [
        {
          "output_type": "stream",
          "name": "stdout",
          "text": [
            "Cloning into 'mask-detection'...\n",
            "remote: Enumerating objects: 11644, done.\u001b[K\n",
            "remote: Counting objects: 100% (6/6), done.\u001b[K\n",
            "remote: Compressing objects: 100% (5/5), done.\u001b[K\n",
            "remote: Total 11644 (delta 0), reused 4 (delta 0), pack-reused 11638\u001b[K\n",
            "Receiving objects: 100% (11644/11644), 400.24 MiB | 14.13 MiB/s, done.\n",
            "Checking out files: 100% (11800/11800), done.\n"
          ]
        }
      ]
    },
    {
      "cell_type": "code",
      "source": [
        "# the data path -change the path for your own data-\n",
        "train_dir = '/content/mask-detection/Face Mask Dataset/Train'\n",
        "val_dir = '/content/mask-detection/Face Mask Dataset/Validation'"
      ],
      "metadata": {
        "id": "g0eYEEePK0Va"
      },
      "execution_count": 3,
      "outputs": []
    },
    {
      "cell_type": "code",
      "source": [
        "# make a augmentation generator for training data\n",
        "train_datagen = ImageDataGenerator(rescale=1.0/255, horizontal_flip=True, zoom_range=0.2,shear_range=0.2,brightness_range=[0.5,1.5])\n",
        "train_generator = train_datagen.flow_from_directory(directory=train_dir,target_size=(128, 128,),class_mode='categorical',batch_size=32)\n"
      ],
      "metadata": {
        "id": "2k_6DUgjK3jI",
        "colab": {
          "base_uri": "https://localhost:8080/",
          "height": 0
        },
        "outputId": "e7d1c165-75b7-402a-df91-64bae26dc4b6"
      },
      "execution_count": 4,
      "outputs": [
        {
          "output_type": "stream",
          "name": "stdout",
          "text": [
            "Found 10000 images belonging to 2 classes.\n"
          ]
        }
      ]
    },
    {
      "cell_type": "code",
      "source": [
        "# make a augmentation generator for validation data\n",
        "val_datagen = ImageDataGenerator(rescale=1.0/255,horizontal_flip=True, zoom_range=0.2,shear_range=0.2,brightness_range=[0.5,1.5])\n",
        "val_generator = train_datagen.flow_from_directory(directory=val_dir,target_size=(128, 128,),class_mode='categorical',batch_size=32)\n"
      ],
      "metadata": {
        "id": "rvYXJizGK5eh",
        "colab": {
          "base_uri": "https://localhost:8080/",
          "height": 0
        },
        "outputId": "19e26f0d-0305-4e9c-a66f-4655528308c6"
      },
      "execution_count": 5,
      "outputs": [
        {
          "output_type": "stream",
          "name": "stdout",
          "text": [
            "Found 800 images belonging to 2 classes.\n"
          ]
        }
      ]
    },
    {
      "cell_type": "code",
      "source": [
        "# load VVG19 architecture\n",
        "vgg19 = VGG19(weights='imagenet', include_top=False, input_shape=(128, 128, 3))"
      ],
      "metadata": {
        "id": "8aTNRxqmK8PG",
        "colab": {
          "base_uri": "https://localhost:8080/",
          "height": 0
        },
        "outputId": "8e1f8f42-4266-48b5-c2db-8cbc5f141d84"
      },
      "execution_count": 6,
      "outputs": [
        {
          "output_type": "stream",
          "name": "stdout",
          "text": [
            "Downloading data from https://storage.googleapis.com/tensorflow/keras-applications/vgg19/vgg19_weights_tf_dim_ordering_tf_kernels_notop.h5\n",
            "80142336/80134624 [==============================] - 3s 0us/step\n",
            "80150528/80134624 [==============================] - 3s 0us/step\n"
          ]
        }
      ]
    },
    {
      "cell_type": "code",
      "source": [
        "# build the model architecture and add some layers\n",
        "model = Sequential()\n",
        "model.add(vgg19)\n",
        "model.add(Flatten())\n",
        "model.add(Dense(100, activation='relu'))\n",
        "model.add(Dense(2,activation='softmax'))\n",
        "model.summary()\n",
        "model.compile(optimizer=\"adam\",loss=\"categorical_crossentropy\",metrics =\"accuracy\")\n",
        "history = model.fit_generator(generator=train_generator,\n",
        "                              epochs=20,validation_data=val_generator,\n",
        "                              )"
      ],
      "metadata": {
        "id": "Of2BgYzgK-0N",
        "colab": {
          "base_uri": "https://localhost:8080/",
          "height": 0
        },
        "outputId": "17052bcd-97c0-43b3-b90a-c41058fdbf9f"
      },
      "execution_count": 8,
      "outputs": [
        {
          "output_type": "stream",
          "name": "stdout",
          "text": [
            "Model: \"sequential_1\"\n",
            "_________________________________________________________________\n",
            " Layer (type)                Output Shape              Param #   \n",
            "=================================================================\n",
            " vgg19 (Functional)          (None, 4, 4, 512)         20024384  \n",
            "                                                                 \n",
            " flatten_1 (Flatten)         (None, 8192)              0         \n",
            "                                                                 \n",
            " dense_2 (Dense)             (None, 100)               819300    \n",
            "                                                                 \n",
            " dense_3 (Dense)             (None, 2)                 202       \n",
            "                                                                 \n",
            "=================================================================\n",
            "Total params: 20,843,886\n",
            "Trainable params: 20,843,886\n",
            "Non-trainable params: 0\n",
            "_________________________________________________________________\n"
          ]
        },
        {
          "output_type": "stream",
          "name": "stderr",
          "text": [
            "/usr/local/lib/python3.7/dist-packages/ipykernel_launcher.py:10: UserWarning: `Model.fit_generator` is deprecated and will be removed in a future version. Please use `Model.fit`, which supports generators.\n",
            "  # Remove the CWD from sys.path while we load stuff.\n"
          ]
        },
        {
          "output_type": "stream",
          "name": "stdout",
          "text": [
            "Epoch 1/20\n",
            "313/313 [==============================] - 120s 335ms/step - loss: 0.7936 - accuracy: 0.5876 - val_loss: 0.2140 - val_accuracy: 0.9275\n",
            "Epoch 2/20\n",
            "313/313 [==============================] - 100s 320ms/step - loss: 0.2124 - accuracy: 0.9241 - val_loss: 0.1346 - val_accuracy: 0.9550\n",
            "Epoch 3/20\n",
            "313/313 [==============================] - 101s 321ms/step - loss: 0.1293 - accuracy: 0.9579 - val_loss: 0.1629 - val_accuracy: 0.9400\n",
            "Epoch 4/20\n",
            "313/313 [==============================] - 101s 321ms/step - loss: 0.1223 - accuracy: 0.9572 - val_loss: 0.1004 - val_accuracy: 0.9550\n",
            "Epoch 5/20\n",
            "313/313 [==============================] - 100s 320ms/step - loss: 0.1218 - accuracy: 0.9590 - val_loss: 0.0754 - val_accuracy: 0.9712\n",
            "Epoch 6/20\n",
            "313/313 [==============================] - 100s 320ms/step - loss: 0.1225 - accuracy: 0.9596 - val_loss: 0.1072 - val_accuracy: 0.9650\n",
            "Epoch 7/20\n",
            "313/313 [==============================] - 100s 320ms/step - loss: 0.0869 - accuracy: 0.9721 - val_loss: 0.0803 - val_accuracy: 0.9663\n",
            "Epoch 8/20\n",
            "313/313 [==============================] - 100s 320ms/step - loss: 0.0796 - accuracy: 0.9715 - val_loss: 0.1043 - val_accuracy: 0.9638\n",
            "Epoch 9/20\n",
            "313/313 [==============================] - 100s 319ms/step - loss: 0.0688 - accuracy: 0.9758 - val_loss: 0.0635 - val_accuracy: 0.9787\n",
            "Epoch 10/20\n",
            "313/313 [==============================] - 100s 319ms/step - loss: 0.0657 - accuracy: 0.9776 - val_loss: 0.0521 - val_accuracy: 0.9812\n",
            "Epoch 11/20\n",
            "313/313 [==============================] - 100s 319ms/step - loss: 0.1217 - accuracy: 0.9599 - val_loss: 0.0956 - val_accuracy: 0.9625\n",
            "Epoch 12/20\n",
            "313/313 [==============================] - 100s 318ms/step - loss: 0.1009 - accuracy: 0.9654 - val_loss: 0.0824 - val_accuracy: 0.9638\n",
            "Epoch 13/20\n",
            "313/313 [==============================] - 100s 318ms/step - loss: 0.0672 - accuracy: 0.9770 - val_loss: 0.0496 - val_accuracy: 0.9837\n",
            "Epoch 14/20\n",
            "313/313 [==============================] - 100s 318ms/step - loss: 0.0583 - accuracy: 0.9784 - val_loss: 0.0559 - val_accuracy: 0.9825\n",
            "Epoch 15/20\n",
            "313/313 [==============================] - 100s 318ms/step - loss: 0.0679 - accuracy: 0.9762 - val_loss: 0.0582 - val_accuracy: 0.9787\n",
            "Epoch 16/20\n",
            "313/313 [==============================] - 100s 318ms/step - loss: 0.0641 - accuracy: 0.9784 - val_loss: 0.0599 - val_accuracy: 0.9850\n",
            "Epoch 17/20\n",
            "313/313 [==============================] - 100s 318ms/step - loss: 0.0513 - accuracy: 0.9827 - val_loss: 0.0505 - val_accuracy: 0.9812\n",
            "Epoch 18/20\n",
            "313/313 [==============================] - 101s 322ms/step - loss: 0.0532 - accuracy: 0.9812 - val_loss: 0.0875 - val_accuracy: 0.9688\n",
            "Epoch 19/20\n",
            "313/313 [==============================] - 100s 319ms/step - loss: 0.0534 - accuracy: 0.9811 - val_loss: 0.0392 - val_accuracy: 0.9850\n",
            "Epoch 20/20\n",
            "313/313 [==============================] - 100s 320ms/step - loss: 0.0453 - accuracy: 0.9841 - val_loss: 0.0347 - val_accuracy: 0.9925\n"
          ]
        }
      ]
    },
    {
      "cell_type": "code",
      "source": [
        "model.save('masknet.h5')"
      ],
      "metadata": {
        "id": "yqaHmOxmLDKh"
      },
      "execution_count": null,
      "outputs": []
    }
  ]
}