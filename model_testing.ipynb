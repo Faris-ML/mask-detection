{
  "nbformat": 4,
  "nbformat_minor": 0,
  "metadata": {
    "colab": {
      "name": "model_testing.ipynb",
      "provenance": [],
      "collapsed_sections": []
    },
    "kernelspec": {
      "name": "python3",
      "display_name": "Python 3"
    },
    "language_info": {
      "name": "python"
    },
    "accelerator": "GPU"
  },
  "cells": [
    {
      "cell_type": "code",
      "execution_count": 1,
      "metadata": {
        "id": "M0YfnCaWuGSL"
      },
      "outputs": [],
      "source": [
        "from keras.models import load_model\n",
        "from keras.preprocessing.image import image_dataset_from_directory\n",
        "import numpy as np\n",
        "from sklearn.metrics import confusion_matrix"
      ]
    },
    {
      "cell_type": "code",
      "source": [
        "! git clone https://github.com/Faris-ML/mask-detection.git"
      ],
      "metadata": {
        "colab": {
          "base_uri": "https://localhost:8080/",
          "height": 0
        },
        "id": "_ze5zRvqZowy",
        "outputId": "fc1cbd18-9d7b-40b8-9637-ee04b503c521"
      },
      "execution_count": 6,
      "outputs": [
        {
          "output_type": "stream",
          "name": "stdout",
          "text": [
            "Cloning into 'mask-detection'...\n",
            "remote: Enumerating objects: 11644, done.\u001b[K\n",
            "remote: Counting objects: 100% (6/6), done.\u001b[K\n",
            "remote: Compressing objects: 100% (5/5), done.\u001b[K\n",
            "remote: Total 11644 (delta 0), reused 4 (delta 0), pack-reused 11638\u001b[K\n",
            "Receiving objects: 100% (11644/11644), 400.24 MiB | 34.01 MiB/s, done.\n",
            "Checking out files: 100% (11800/11800), done.\n"
          ]
        }
      ]
    },
    {
      "cell_type": "code",
      "source": [
        "model=load_model('/content/mask-detection/masknet.h5')\n",
        "test_dir = '/content//mask-detection/Face Mask Dataset/Test'\n",
        "\n",
        "test= image_dataset_from_directory(directory=test_dir,label_mode='categorical',batch_size=992,image_size=(128,128))"
      ],
      "metadata": {
        "colab": {
          "base_uri": "https://localhost:8080/",
          "height": 0
        },
        "id": "guFtmslRuZoJ",
        "outputId": "2c72f10d-9109-45ca-993c-490e2bc2cdf4"
      },
      "execution_count": 2,
      "outputs": [
        {
          "output_type": "stream",
          "name": "stdout",
          "text": [
            "Found 992 files belonging to 2 classes.\n"
          ]
        }
      ]
    },
    {
      "cell_type": "code",
      "source": [
        "y_pred=np.array([])\n",
        "y_true=np.array([])\n",
        "\n",
        "for x,y in test.take(1):\n",
        "    y_pred=np.concatenate([y_pred,np.argmax(model.predict(x),axis=-1)])\n",
        "    y_true=np.concatenate([y_true,np.argmax(y.numpy(),axis=-1)])"
      ],
      "metadata": {
        "id": "p2rvOnmvud13"
      },
      "execution_count": 3,
      "outputs": []
    },
    {
      "cell_type": "code",
      "source": [
        "cm=confusion_matrix(y_true=y_true,y_pred=y_pred)\n",
        "tn, fp, fn, tp=cm.ravel()\n",
        "print('confusion matrix is :')\n",
        "print(cm)\n",
        "print('performance measures : ')\n",
        "accuracy=(tp+tn)/(tp+tn+fp+fn)\n",
        "Miscallification_rate= 1-accuracy\n",
        "TP_rate = tp/(tp+fn)\n",
        "FP_rate = fp/(tn+fp)\n",
        "TN_rate = tn/(tn+fp)\n",
        "precision = tp/(tp+fp)\n",
        "prevalence = (tp+fp)/(tp+fp+tn+fn)\n",
        "balanced_accuracy = (TN_rate+TP_rate)/2\n",
        "F1_score = (2*tp)/(2*tp+fn+tn)\n",
        "print(\"\\naccuracy: %18.3f\" % (accuracy))\n",
        "print(\"Miscallification rate: %1.3f\" % (Miscallification_rate))\n",
        "print(\"True positive rate: %8.3f\" % (TP_rate))\n",
        "print(\"false positive rate: %7.3f\" % (FP_rate))\n",
        "print(\"true negative rate: %8.3f\" % (TN_rate))\n",
        "print(\"precision: %17.3f\" % (precision))\n",
        "print(\"prevalence: %16.3f\" % (prevalence))\n",
        "print(\"balanced accuracy: %9.3f\" % (balanced_accuracy))\n",
        "print(\"F1 score: %18.3f\" % (F1_score))\n"
      ],
      "metadata": {
        "colab": {
          "base_uri": "https://localhost:8080/",
          "height": 0
        },
        "id": "JFp2LR64uhoB",
        "outputId": "544dc0d5-1ff0-4acd-a44b-7f0fe30ecdc8"
      },
      "execution_count": 4,
      "outputs": [
        {
          "output_type": "stream",
          "name": "stdout",
          "text": [
            "confusion matrix is :\n",
            "[[474   9]\n",
            " [  3 506]]\n",
            "performance measures : \n",
            "\n",
            "accuracy:              0.988\n",
            "Miscallification rate: 0.012\n",
            "True positive rate:    0.994\n",
            "false positive rate:   0.019\n",
            "true negative rate:    0.981\n",
            "precision:             0.983\n",
            "prevalence:            0.519\n",
            "balanced accuracy:     0.988\n",
            "F1 score:              0.680\n"
          ]
        }
      ]
    },
    {
      "cell_type": "code",
      "source": [
        "import matplotlib.pyplot as plt\n",
        "import seaborn as sns\n",
        "!pip install --upgrade --user matplotlib"
      ],
      "metadata": {
        "colab": {
          "base_uri": "https://localhost:8080/",
          "height": 0
        },
        "id": "nZ687KSWTn1U",
        "outputId": "de44a6ed-5e8a-4477-e738-48d72a72f135"
      },
      "execution_count": 5,
      "outputs": [
        {
          "output_type": "stream",
          "name": "stdout",
          "text": [
            "Requirement already satisfied: matplotlib in /root/.local/lib/python3.7/site-packages (3.5.1)\n",
            "Requirement already satisfied: kiwisolver>=1.0.1 in /usr/local/lib/python3.7/dist-packages (from matplotlib) (1.3.2)\n",
            "Requirement already satisfied: cycler>=0.10 in /usr/local/lib/python3.7/dist-packages (from matplotlib) (0.11.0)\n",
            "Requirement already satisfied: numpy>=1.17 in /usr/local/lib/python3.7/dist-packages (from matplotlib) (1.19.5)\n",
            "Requirement already satisfied: packaging>=20.0 in /usr/local/lib/python3.7/dist-packages (from matplotlib) (21.3)\n",
            "Requirement already satisfied: python-dateutil>=2.7 in /usr/local/lib/python3.7/dist-packages (from matplotlib) (2.8.2)\n",
            "Requirement already satisfied: pillow>=6.2.0 in /usr/local/lib/python3.7/dist-packages (from matplotlib) (7.1.2)\n",
            "Requirement already satisfied: pyparsing>=2.2.1 in /usr/local/lib/python3.7/dist-packages (from matplotlib) (3.0.6)\n",
            "Requirement already satisfied: fonttools>=4.22.0 in /root/.local/lib/python3.7/site-packages (from matplotlib) (4.29.0)\n",
            "Requirement already satisfied: six>=1.5 in /usr/local/lib/python3.7/dist-packages (from python-dateutil>=2.7->matplotlib) (1.15.0)\n"
          ]
        }
      ]
    },
    {
      "cell_type": "code",
      "source": [
        "def heatmap(confusion_matrix,lbl):\n",
        "  actual = lbl\n",
        "  predicted =lbl\n",
        "\n",
        "  confusion_matrix = confusion_matrix\n",
        "\n",
        "\n",
        "  fig, ax = plt.subplots()\n",
        "  im = ax.imshow(confusion_matrix)\n",
        "\n",
        "# Show all ticks and label them with the respective list entries\n",
        "  ax.set_xticks(ticks=np.arange(len(actual)), labels=actual)\n",
        "  ax.set_yticks(ticks=np.arange(len(predicted)), labels=predicted)\n",
        "\n",
        "# Rotate the tick labels and set their alignment.\n",
        "  plt.setp(ax.get_xticklabels(), rotation=45, ha=\"right\",\n",
        "         rotation_mode=\"anchor\")\n",
        "\n",
        "# Loop over data dimensions and create text annotations.\n",
        "  for i in range(len(predicted)):\n",
        "      for j in range(len(actual)):\n",
        "          text = ax.text(j, i, confusion_matrix[i, j],\n",
        "                       ha=\"center\", va=\"center\", color=\"black\")\n",
        "\n",
        "  ax.set_title(\"confusion matrix heatmap\")\n",
        "  fig.tight_layout()\n",
        "  plt.show()"
      ],
      "metadata": {
        "id": "-bHJGVwuWsBj"
      },
      "execution_count": 6,
      "outputs": []
    },
    {
      "cell_type": "code",
      "source": [
        "heatmap(confusion_matrix=cm,lbl=[\"mask\",\"no mask\"])"
      ],
      "metadata": {
        "colab": {
          "base_uri": "https://localhost:8080/",
          "height": 297
        },
        "id": "KmYoXdBDUYP6",
        "outputId": "d8227bc5-b915-4620-d66e-0c2537153408"
      },
      "execution_count": 7,
      "outputs": [
        {
          "output_type": "display_data",
          "data": {
            "image/png": "[encoded data removed]",
            "text/plain": [
              "<Figure size 432x288 with 1 Axes>"
            ]
          },
          "metadata": {
            "needs_background": "light"
          }
        }
      ]
    }
  ]
}